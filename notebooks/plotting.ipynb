{
 "cells": [
  {
   "cell_type": "markdown",
   "id": "0232b80c",
   "metadata": {},
   "source": [
    "# Plotting Results\n",
    "This notebook contains the code used to generate plots for the technical report, including feature importance results and visualizations of model performance. \n",
    "Note that the plots are not displayed to reduce the size of the notebook. You can uncomment the plot lines below or view them in the `img` directory."
   ]
  },
  {
   "cell_type": "code",
   "execution_count": 2,
   "id": "4566ee1c",
   "metadata": {},
   "outputs": [
    {
     "name": "stderr",
     "output_type": "stream",
     "text": [
      "/Users/benjaminfrizzell/miniforge3/envs/mds-afforest-dev/lib/python3.12/site-packages/tqdm/auto.py:21: TqdmWarning: IProgress not found. Please update jupyter and ipywidgets. See https://ipywidgets.readthedocs.io/en/stable/user_install.html\n",
      "  from .autonotebook import tqdm as notebook_tqdm\n"
     ]
    }
   ],
   "source": [
    "import pandas as pd\n",
    "import joblib\n",
    "import altair as alt\n",
    "import glob\n",
    "import sys\n",
    "import os\n",
    "import numpy as np\n",
    "from pathlib import Path\n",
    "\n",
    "sys.path.append(os.path.abspath(\"..\"))\n",
    "alt.data_transformers.enable(\"vegafusion\")\n",
    "from src.models.feat_selection import ImportanceFeatureSelector"
   ]
  },
  {
   "cell_type": "markdown",
   "id": "d7d32e1f",
   "metadata": {},
   "source": [
    "## Feature Importance\n",
    "\n",
    "### Permutation Importance"
   ]
  },
  {
   "cell_type": "code",
   "execution_count": 2,
   "id": "659a2279",
   "metadata": {},
   "outputs": [],
   "source": [
    "perm_plots = []\n",
    "model_order=['Logistic Regression','Random Forest','Gradient Boosting']\n",
    "for threshold in [50,60,70,80]:   \n",
    "    gbm_perm = joblib.load(f'../models/{threshold}/fitted_gradient_boosting_permute.joblib')\n",
    "    rf_perm = joblib.load(f'../models/{threshold}/fitted_random_forest_permute.joblib')\n",
    "    lr_perm = joblib.load(f'../models/{threshold}/fitted_logistic_regression_permute.joblib')\n",
    "\n",
    "    permutation_df = pd.DataFrame({\n",
    "        'mean':np.concatenate((\n",
    "            gbm_perm.values['importances_mean'],\n",
    "            rf_perm.values['importances_mean'],\n",
    "            lr_perm.values['importances_mean'])),\n",
    "        'std':np.concatenate((\n",
    "            gbm_perm.values['importances_std'],\n",
    "            rf_perm.values['importances_std'],\n",
    "            lr_perm.values['importances_std']\n",
    "            ))/np.sqrt(5),\n",
    "        'model':['Gradient Boosting']*15 + ['Random Forest']*15 + ['Logistic Regression']*15,\n",
    "        'feature':gbm_perm.plot_data.index.to_list()*3\n",
    "    })\n",
    "    permutation_df['ci_lower'] = permutation_df['mean'] - 1.96*permutation_df['std']\n",
    "    permutation_df['ci_upper'] = permutation_df['mean'] + 1.96*permutation_df['std']\n",
    "\n",
    "    feat_order = gbm_perm.plot_data.index.to_list()\n",
    "\n",
    "    bars = alt.Chart(permutation_df).mark_bar().encode(\n",
    "        x=alt.X('feature:N',sort=feat_order, title='',axis=alt.Axis(labelAngle=45)),\n",
    "        xOffset=alt.XOffset('model:N',sort=model_order),\n",
    "        y=alt.Y('mean:Q', title='',scale=alt.Scale(domain=[None,0.25])),\n",
    "        color=alt.Color('model:N',title='Model',sort=model_order),\n",
    "    )\n",
    "\n",
    "    error_bars = alt.Chart(permutation_df).mark_rule().encode(\n",
    "        x=alt.X('feature:N',sort=feat_order),\n",
    "        xOffset=alt.XOffset('model:N',sort=model_order),\n",
    "        y='ci_lower:Q',\n",
    "        y2='ci_upper:Q',\n",
    "        color=alt.value('black')\n",
    "    )\n",
    "\n",
    "    cap_top = alt.Chart(permutation_df).mark_tick(\n",
    "        color='black',\n",
    "        thickness=1,\n",
    "        width=6\n",
    "    ).encode(\n",
    "        x=alt.X('feature:N', sort=feat_order),\n",
    "        xOffset=alt.XOffset('model:N',sort=model_order),\n",
    "        y='ci_upper:Q'\n",
    "    )\n",
    "\n",
    "    # Bottom caps\n",
    "    cap_bottom = alt.Chart(permutation_df).mark_tick(\n",
    "        color='black',\n",
    "        thickness=1,\n",
    "        width=6\n",
    "    ).encode(\n",
    "        x=alt.X('feature:N', sort=feat_order),\n",
    "        xOffset=alt.XOffset('model:N',sort=model_order),\n",
    "        y='ci_lower:Q'\n",
    "    )\n",
    "\n",
    "\n",
    "    permutation_plot = (bars + error_bars + cap_bottom + cap_top).properties(\n",
    "        title=f'{threshold}%',\n",
    "        width=450\n",
    "        )\n",
    "    perm_plots.append(permutation_plot)\n",
    "    \n",
    "title = alt.Chart({'values':[{}]}).mark_text(\n",
    "    text='Permutation Feature Importance',\n",
    "    fontSize=20,\n",
    "    font='Helvetica',\n",
    "    dy=-10\n",
    ").encode().properties(\n",
    "    width=225,\n",
    "    height=2\n",
    ")\n",
    "\n",
    "# Remove x-axis tick labels but keep ticks and gridlines\n",
    "perm_plots[0] = perm_plots[0].encode(\n",
    "    x=alt.X('feature:N', axis=alt.Axis(labels=False, title=None))\n",
    ")\n",
    "perm_plots[1] = perm_plots[1].encode(\n",
    "    x=alt.X('feature:N', axis=alt.Axis(labels=False, title=None))\n",
    ")\n",
    "\n",
    "# Remove y-axis tick labels but keep ticks and gridlines\n",
    "perm_plots[1] = perm_plots[1].encode(\n",
    "    y=alt.Y('mean:Q', axis=alt.Axis(labels=False, title=None))\n",
    ")\n",
    "perm_plots[3] = perm_plots[3].encode(\n",
    "    y=alt.Y('mean:Q', axis=alt.Axis(labels=False, title=None))\n",
    ")\n",
    "\n",
    "perm_importance_plot = alt.vconcat(title, (perm_plots[0] & perm_plots[2]) | (perm_plots[1] & perm_plots[3])).configure_view(stroke=None)\n",
    "#perm_importance_plot"
   ]
  },
  {
   "cell_type": "code",
   "execution_count": 3,
   "id": "01e7ddc3",
   "metadata": {},
   "outputs": [],
   "source": [
    "perm_importance_plot.save('../img/feature_importance_permutation.png',ppi=500)"
   ]
  },
  {
   "cell_type": "markdown",
   "id": "beaceff0",
   "metadata": {},
   "source": [
    "### SHAP Importance"
   ]
  },
  {
   "cell_type": "code",
   "execution_count": 4,
   "id": "94795b67",
   "metadata": {},
   "outputs": [],
   "source": [
    "shap_plots = []\n",
    "model_order=['Logistic Regression','Random Forest','Gradient Boosting']\n",
    "for threshold in [50,60,70,80]:   \n",
    "    gbm_shap = joblib.load(f'../models/{threshold}/fitted_gradient_boosting_shap.joblib')\n",
    "    rf_shap = joblib.load(f'../models/{threshold}/fitted_random_forest_shap.joblib')\n",
    "    lr_shap = joblib.load(f'../models/{threshold}/fitted_logistic_regression_shap.joblib')\n",
    "\n",
    "    shap_df = pd.DataFrame({\n",
    "        'mean':np.concatenate((\n",
    "            gbm_shap.plot_data,\n",
    "            rf_shap.plot_data,\n",
    "            lr_shap.plot_data)),\n",
    "        'model':['Gradient Boosting']*15 + ['Random Forest']*15 + ['Logistic Regression']*15,\n",
    "        'feature':gbm_shap.plot_data.index.to_list()*3\n",
    "    })\n",
    "\n",
    "    feat_order = gbm_shap.plot_data.index.to_list()\n",
    "\n",
    "    bars = alt.Chart(shap_df).mark_bar().encode(\n",
    "        x=alt.X('feature:N',sort=feat_order, title='',axis=alt.Axis(labelAngle=45)),\n",
    "        xOffset=alt.XOffset('model:N',sort=model_order),\n",
    "        y=alt.Y('mean:Q', title=''),\n",
    "        color=alt.Color('model:N',title='Model',sort=model_order),\n",
    "    ).properties(\n",
    "        title=f'{threshold}%',\n",
    "        width=450\n",
    "        )\n",
    "    shap_plots.append(bars)\n",
    "\n",
    "\n",
    "# Remove x-axis tick labels but keep ticks and gridlines\n",
    "shap_plots[0] = shap_plots[0].encode(\n",
    "    x=alt.X('feature:N', axis=alt.Axis(labels=False, title=None))\n",
    ")\n",
    "shap_plots[1] = shap_plots[1].encode(\n",
    "    x=alt.X('feature:N', axis=alt.Axis(labels=False, title=None))\n",
    ")\n",
    "\n",
    "# Remove y-axis tick labels but keep ticks and gridlines\n",
    "shap_plots[1] = shap_plots[1].encode(\n",
    "    y=alt.Y('mean:Q', axis=alt.Axis(labels=False, title=None))\n",
    ")\n",
    "shap_plots[3] = shap_plots[3].encode(\n",
    "    y=alt.Y('mean:Q', axis=alt.Axis(labels=False, title=None))\n",
    ")\n",
    "\n",
    "title = alt.Chart({'values':[{}]}).mark_text(\n",
    "    text='SHAP Feature Importance',\n",
    "    fontSize=20,\n",
    "    font='Helvetica',\n",
    "    dy=-10\n",
    ").encode().properties(\n",
    "    width=235,\n",
    "    height=2\n",
    ")\n",
    "\n",
    "\n",
    "shap_importance_plot = alt.vconcat(title,(shap_plots[0] & shap_plots[2]) | (shap_plots[1] & shap_plots[3]))\n",
    "#shap_importance_plot"
   ]
  },
  {
   "cell_type": "code",
   "execution_count": 5,
   "id": "0b10dca6",
   "metadata": {},
   "outputs": [],
   "source": [
    "shap_importance_plot.save('../img/feature_importance_shap.png',ppi=500)"
   ]
  },
  {
   "cell_type": "markdown",
   "id": "4586b02d",
   "metadata": {},
   "source": [
    "### RFE Cross-Validation Rankings"
   ]
  },
  {
   "cell_type": "code",
   "execution_count": 6,
   "id": "833d5dc9",
   "metadata": {},
   "outputs": [],
   "source": [
    "rfe_plots = []\n",
    "for threshold in [50,60,70,80]:\n",
    "    # get models   \n",
    "    gbm_rfe = joblib.load(f'../models/{threshold}/fitted_gradient_boosting_rfecv.joblib')\n",
    "    rf_rfe = joblib.load(f'../models/{threshold}/fitted_random_forest_rfecv.joblib')\n",
    "    lr_rfe = joblib.load(f'../models/{threshold}/fitted_logistic_regression_rfecv.joblib')\n",
    "    \n",
    "    # construct dataframe for plotting\n",
    "    rfecv_df = pd.DataFrame({\n",
    "        'feature': \n",
    "            [name.split('__')[1] for name in gbm_rfe.named_steps['columntransformer'].get_feature_names_out()] + \n",
    "            [name.split('__')[1] for name in rf_rfe.named_steps['columntransformer'].get_feature_names_out()] + \n",
    "            [name.split('__')[1] for name in lr_rfe.named_steps['columntransformer'].get_feature_names_out()],\n",
    "        'model': ['Gradient Boosting']*15 + ['Random Forest']*15 + ['Logistic Regression']*15,\n",
    "        'ranking': np.concatenate((\n",
    "            gbm_rfe.named_steps['rfecv'].ranking_,\n",
    "            rf_rfe.named_steps['rfecv'].ranking_,\n",
    "            lr_rfe.named_steps['rfecv'].ranking_\n",
    "            ))\n",
    "    })\n",
    "    \n",
    "    rfe_heatmap = alt.Chart(rfecv_df).mark_rect().encode(\n",
    "    x=alt.X('feature:N',title='',axis=alt.Axis(labelAngle=45)),\n",
    "    y=alt.Y('model:N',sort=model_order,title=''),\n",
    "    color=alt.Color('ranking:O',title='Importance Ranking',scale=alt.Scale(scheme='greens', reverse=True))\n",
    "    ).properties(\n",
    "        title=f'{threshold}%',\n",
    "        width=300\n",
    "        )\n",
    "    rfe_plots.append(rfe_heatmap)        \n",
    "\n",
    "\n",
    "\n",
    "# Remove x-axis tick labels but keep ticks and gridlines\n",
    "rfe_plots[0] = rfe_plots[0].encode(\n",
    "    x=alt.X('feature:N', axis=alt.Axis(labels=False, title=None))\n",
    ")\n",
    "rfe_plots[1] = rfe_plots[1].encode(\n",
    "    x=alt.X('feature:N', axis=alt.Axis(labels=False, title=None))\n",
    ")\n",
    "\n",
    "# Remove y-axis tick labels but keep ticks and gridlines\n",
    "rfe_plots[1] = rfe_plots[1].encode(\n",
    "    y=alt.Y('model:N', axis=alt.Axis(labels=False, title=None))\n",
    ")\n",
    "rfe_plots[3] = rfe_plots[3].encode(\n",
    "    y=alt.Y('model:N', axis=alt.Axis(labels=False, title=None))\n",
    ")\n",
    "\n",
    "title = alt.Chart({'values':[{}]}).mark_text(\n",
    "    text='RFE Importance',\n",
    "    fontSize=20,\n",
    "    font='Helvetica',\n",
    "    dy=-10\n",
    ").encode().properties(\n",
    "    width=145,\n",
    "    height=2\n",
    ")\n",
    "\n",
    "rfe_importance_plot = alt.vconcat(title,(rfe_plots[0] & rfe_plots[2]) | (rfe_plots[1] & rfe_plots[3]))\n",
    "#rfe_importance_plot"
   ]
  },
  {
   "cell_type": "code",
   "execution_count": 7,
   "id": "6a85a06d",
   "metadata": {},
   "outputs": [],
   "source": [
    "rfe_importance_plot.save('../img/feature_importance_rfe.png',ppi=500)"
   ]
  },
  {
   "cell_type": "markdown",
   "id": "0bb785dd",
   "metadata": {},
   "source": [
    "## Classical Model Performance\n",
    "\n",
    "### Precision Recall Curves"
   ]
  },
  {
   "cell_type": "code",
   "execution_count": 8,
   "id": "6c293aec",
   "metadata": {},
   "outputs": [],
   "source": [
    "precision_recall_dfs = []\n",
    "\n",
    "# gather precision recall plots for all models\n",
    "for model_name in ['gradient_boosting','random_forest','logistic_regression']:\n",
    "    for file in Path('..').glob(f\"results/*/{model_name}_pr_curve.csv\"):\n",
    "        df = pd.read_csv(file)\n",
    "        df['Threshold'] = file.parent.name + '%'\n",
    "        df['Model'] = model_name.replace('_', ' ').title()\n",
    "        precision_recall_dfs.append(df)\n",
    "\n",
    "precision_recall_df = pd.concat(precision_recall_dfs, ignore_index=True)"
   ]
  },
  {
   "cell_type": "code",
   "execution_count": 9,
   "id": "eda46718",
   "metadata": {},
   "outputs": [],
   "source": [
    "precision_recall_plot = alt.Chart(precision_recall_df).mark_line().encode(\n",
    "    x=alt.X('Recall:Q'),\n",
    "    y=alt.Y('Precision:Q'),\n",
    "    color=alt.Color('Threshold:O',sort=['50%','60%','70%','80%'],scale=alt.Scale(scheme='greens'))\n",
    ").facet(\n",
    "    column=alt.Column('Model:N', title='Precision-Recall Curves')\n",
    ").configure_view(\n",
    "    strokeWidth=0  # Removes the border around each facet\n",
    ").configure_header(\n",
    "    titleFontSize=20,  # Size of the facet title\n",
    ")\n",
    "#precision_recall_plot"
   ]
  },
  {
   "cell_type": "code",
   "execution_count": 10,
   "id": "61d97384",
   "metadata": {},
   "outputs": [],
   "source": [
    "precision_recall_plot.save('../img/evaluation_pr-curve.png',ppi=500)"
   ]
  },
  {
   "cell_type": "markdown",
   "id": "3431256e",
   "metadata": {},
   "source": [
    "### ROC Curves"
   ]
  },
  {
   "cell_type": "code",
   "execution_count": 11,
   "id": "e9f07b8d",
   "metadata": {},
   "outputs": [],
   "source": [
    "roc_dfs = []\n",
    "\n",
    "# gather precision recall plots for all models\n",
    "for model_name in ['gradient_boosting','random_forest','logistic_regression']:\n",
    "    for file in Path('..').glob(f\"results/*/{model_name}_roc_curve.csv\"):\n",
    "        df = pd.read_csv(file)\n",
    "        df['Threshold'] = file.parent.name + '%'\n",
    "        df['Model'] = model_name.replace('_', ' ').title()\n",
    "        roc_dfs.append(df)\n",
    "\n",
    "roc_df = pd.concat(roc_dfs, ignore_index=True)\n",
    "\n",
    "alt.data_transformers.enable(\"vegafusion\")\n",
    "roc_plot = alt.Chart(roc_df).mark_line().encode(\n",
    "    x=alt.X('False Positive Rate:Q'),\n",
    "    y=alt.Y('True Positive Rate:Q'),\n",
    "    color=alt.Color('Threshold:O',sort=['50%','60%','70%','80%'],scale=alt.Scale(scheme='greens'))\n",
    ").facet(\n",
    "    column=alt.Column('Model:N', title='ROC Curves')\n",
    ").configure_view(\n",
    "    strokeWidth=0  # Removes the border around each facet\n",
    ").configure_header(\n",
    "    titleFontSize=20,  # Size of the facet title\n",
    ")\n",
    "#roc_plot"
   ]
  },
  {
   "cell_type": "code",
   "execution_count": 12,
   "id": "bfa639fc-7521-418b-94bf-9dd59bf6e7dc",
   "metadata": {},
   "outputs": [],
   "source": [
    "roc_plot.save('../img/evaluation_roc-curve.png',ppi=500)"
   ]
  },
  {
   "cell_type": "markdown",
   "id": "e48234e4-cef1-496e-85ca-103c90ffdbce",
   "metadata": {},
   "source": [
    "### Confusion Matrix"
   ]
  },
  {
   "cell_type": "code",
   "execution_count": 61,
   "id": "d8423203-9574-464b-ad65-ff10ce9deb30",
   "metadata": {},
   "outputs": [],
   "source": [
    "conf_matrix_dfs = []\n",
    "\n",
    "for model_name in ['gradient_boosting','random_forest','logistic_regression']:\n",
    "    for file in Path('..').glob(f\"results/*/{model_name}_confusion_matrix.csv\"):\n",
    "        conf_matrix = pd.read_csv(file,index_col=0)\n",
    "        conf_matrix = conf_matrix.reset_index().melt(id_vars='index')\n",
    "        conf_matrix.columns = ['True', 'Predicted', 'Count']\n",
    "        conf_matrix['Threshold'] = file.parent.name + '%'\n",
    "        conf_matrix['Model'] = model_name.replace('_', ' ').title()\n",
    "        conf_matrix_dfs.append(conf_matrix)\n",
    "\n",
    "conf_matrix_df = pd.concat(conf_matrix_dfs,ignore_index=True)"
   ]
  },
  {
   "cell_type": "code",
   "execution_count": 123,
   "id": "c07024d0-30a3-447c-ba7a-dce4196643b4",
   "metadata": {},
   "outputs": [],
   "source": [
    "heatmap = alt.Chart(conf_matrix_df).mark_rect().encode(\n",
    "    x=alt.X('Predicted:N', title='',axis=alt.Axis(labelAngle=0)),\n",
    "    y=alt.Y('True:N', title=''),\n",
    "    color=alt.Color('Count:Q', scale=alt.Scale(scheme='greens'),legend=None),\n",
    ").properties(\n",
    "    width=200,\n",
    "    height=200\n",
    ")\n",
    "\n",
    "text = alt.Chart(conf_matrix_df).mark_text(baseline='middle').encode(\n",
    "    x='Predicted:N',\n",
    "    y='True:N',\n",
    "    text='Count:Q'\n",
    ").properties(\n",
    "    width=200,\n",
    "    height=200\n",
    ")\n",
    "\n",
    "conf_mat_plot = (heatmap+text).facet(\n",
    "    row=alt.Row('Model:N',title='',header=alt.Header(labelAngle=0,labelPadding=7,labelOrient='right')),\n",
    "    column=alt.Column('Threshold:O',sort=['50%','60%','70%','80%'],title='Confusion Matrices')\n",
    ").configure_view(\n",
    "    strokeWidth=0  # Removes the border around each facet\n",
    ").configure_header(\n",
    "    titleFontSize=20,  # Size of the facet title\n",
    ")\n",
    "\n",
    "#conf_mat_plot"
   ]
  },
  {
   "cell_type": "code",
   "execution_count": 124,
   "id": "7953f235-abad-4c8b-a6e3-0897a708c8c8",
   "metadata": {},
   "outputs": [],
   "source": [
    "conf_mat_plot.save('../img/evaluation_conf_matrix.png',ppi=500)"
   ]
  },
  {
   "cell_type": "markdown",
   "id": "04fcdddb",
   "metadata": {},
   "source": [
    "## Other Plots\n",
    "\n",
    "### Show distribution of data"
   ]
  },
  {
   "cell_type": "code",
   "execution_count": 6,
   "id": "0b1b224c",
   "metadata": {},
   "outputs": [],
   "source": [
    "train_lookup = pd.read_parquet('../data/processed/train_lookup.parquet')"
   ]
  },
  {
   "cell_type": "code",
   "execution_count": null,
   "id": "ce748a87",
   "metadata": {},
   "outputs": [],
   "source": [
    "target_density = alt.Chart(train_lookup).transform_density(\n",
    "    'target',\n",
    "    as_=['target', 'density']).mark_area().encode(\n",
    "    x = alt.X('target:Q').title('Survival Rate (%)'),\n",
    "    y = alt.Y('density:Q').title('Density'),\n",
    "    color = alt.ColorValue('green')\n",
    ").properties(\n",
    "    title='Survival Rate Distribution (Training set)'\n",
    ")\n",
    "#target_density"
   ]
  },
  {
   "cell_type": "code",
   "execution_count": 31,
   "id": "4e287f9a",
   "metadata": {},
   "outputs": [],
   "source": [
    "target_density.save('../img/target_density.png',ppi=500)"
   ]
  },
  {
   "cell_type": "code",
   "execution_count": 32,
   "id": "b08d66b3",
   "metadata": {},
   "outputs": [],
   "source": [
    "raw_data = pd.read_parquet('../data/raw/raw_data.parquet')"
   ]
  },
  {
   "cell_type": "code",
   "execution_count": 33,
   "id": "04c558e4",
   "metadata": {},
   "outputs": [
    {
     "data": {
      "text/plain": [
       "2956"
      ]
     },
     "execution_count": 33,
     "metadata": {},
     "output_type": "execute_result"
    }
   ],
   "source": [
    "len(raw_data['ID'].unique())"
   ]
  },
  {
   "cell_type": "code",
   "execution_count": null,
   "id": "187a3e82",
   "metadata": {},
   "outputs": [],
   "source": []
  }
 ],
 "metadata": {
  "kernelspec": {
   "display_name": "mds-afforest-dev",
   "language": "python",
   "name": "python3"
  },
  "language_info": {
   "codemirror_mode": {
    "name": "ipython",
    "version": 3
   },
   "file_extension": ".py",
   "mimetype": "text/x-python",
   "name": "python",
   "nbconvert_exporter": "python",
   "pygments_lexer": "ipython3",
   "version": "3.12.10"
  }
 },
 "nbformat": 4,
 "nbformat_minor": 5
}
