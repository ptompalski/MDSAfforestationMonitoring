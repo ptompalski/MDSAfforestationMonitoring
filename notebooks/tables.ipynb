{
 "cells": [
  {
   "cell_type": "code",
   "execution_count": 1,
   "id": "459bbb61-cd04-41c6-88d8-bebd4e9239a1",
   "metadata": {},
   "outputs": [
    {
     "name": "stderr",
     "output_type": "stream",
     "text": [
      "/Users/benjaminfrizzell/miniforge3/envs/mds-afforest-dev/lib/python3.12/site-packages/tqdm/auto.py:21: TqdmWarning: IProgress not found. Please update jupyter and ipywidgets. See https://ipywidgets.readthedocs.io/en/stable/user_install.html\n",
      "  from .autonotebook import tqdm as notebook_tqdm\n"
     ]
    }
   ],
   "source": [
    "import pandas as pd\n",
    "import joblib\n",
    "import altair as alt\n",
    "import glob\n",
    "import sys\n",
    "import os\n",
    "import numpy as np\n",
    "from pathlib import Path\n",
    "\n",
    "sys.path.append(os.path.abspath(\"..\"))\n",
    "from src.models.feat_selection import ImportanceFeatureSelector"
   ]
  },
  {
   "cell_type": "markdown",
   "id": "2b178577-7330-4a64-83bc-42bd4b306e94",
   "metadata": {},
   "source": [
    "# Tables\n",
    "\n",
    "This notebook contains all the code used to generate tables for the report, mainly the error metrics and class imbalance."
   ]
  },
  {
   "cell_type": "code",
   "execution_count": 9,
   "id": "caed9af6-9373-496e-930e-fc1d296a8c92",
   "metadata": {},
   "outputs": [],
   "source": [
    "error_dicts = []\n",
    "for model_name in ['gradient_boosting','random_forest','logistic_regression']:\n",
    "    for file in Path('..').glob(f\"results/*/{model_name}_scores.joblib\"):\n",
    "        error_dict = joblib.load(file)\n",
    "        error_dict['Model'] =  model_name.replace('_', ' ').title()\n",
    "        error_dict['Threshold'] = file.parent.name + '%'\n",
    "        error_dicts.append(error_dict)\n",
    "\n",
    "results_df = pd.DataFrame(error_dicts).sort_values(by=['Model','Threshold'])[['Model','Threshold','Accuracy','F1 Score','F2 Score','AUC','AP']]"
   ]
  },
  {
   "cell_type": "code",
   "execution_count": 10,
   "id": "180216d9-cf8f-4f7c-b97d-4999c757f12e",
   "metadata": {},
   "outputs": [
    {
     "data": {
      "text/html": [
       "<div>\n",
       "<style scoped>\n",
       "    .dataframe tbody tr th:only-of-type {\n",
       "        vertical-align: middle;\n",
       "    }\n",
       "\n",
       "    .dataframe tbody tr th {\n",
       "        vertical-align: top;\n",
       "    }\n",
       "\n",
       "    .dataframe thead th {\n",
       "        text-align: right;\n",
       "    }\n",
       "</style>\n",
       "<table border=\"1\" class=\"dataframe\">\n",
       "  <thead>\n",
       "    <tr style=\"text-align: right;\">\n",
       "      <th></th>\n",
       "      <th>Model</th>\n",
       "      <th>Accuracy</th>\n",
       "      <th>F1 Score</th>\n",
       "      <th>F2 Score</th>\n",
       "      <th>AUC</th>\n",
       "      <th>AP</th>\n",
       "    </tr>\n",
       "  </thead>\n",
       "  <tbody>\n",
       "    <tr>\n",
       "      <th>0</th>\n",
       "      <td>Gradient Boosting</td>\n",
       "      <td>0.934</td>\n",
       "      <td>0.058</td>\n",
       "      <td>0.045</td>\n",
       "      <td>0.599</td>\n",
       "      <td>0.072</td>\n",
       "    </tr>\n",
       "    <tr>\n",
       "      <th>8</th>\n",
       "      <td>Logistic Regression</td>\n",
       "      <td>0.597</td>\n",
       "      <td>0.122</td>\n",
       "      <td>0.228</td>\n",
       "      <td>0.590</td>\n",
       "      <td>0.083</td>\n",
       "    </tr>\n",
       "    <tr>\n",
       "      <th>4</th>\n",
       "      <td>Random Forest</td>\n",
       "      <td>0.780</td>\n",
       "      <td>0.124</td>\n",
       "      <td>0.192</td>\n",
       "      <td>0.545</td>\n",
       "      <td>0.061</td>\n",
       "    </tr>\n",
       "  </tbody>\n",
       "</table>\n",
       "</div>"
      ],
      "text/plain": [
       "                 Model  Accuracy  F1 Score  F2 Score    AUC     AP\n",
       "0    Gradient Boosting     0.934     0.058     0.045  0.599  0.072\n",
       "8  Logistic Regression     0.597     0.122     0.228  0.590  0.083\n",
       "4        Random Forest     0.780     0.124     0.192  0.545  0.061"
      ]
     },
     "execution_count": 10,
     "metadata": {},
     "output_type": "execute_result"
    }
   ],
   "source": [
    "results_df.query('Threshold == \"50%\"').drop(columns='Threshold')"
   ]
  },
  {
   "cell_type": "code",
   "execution_count": 11,
   "id": "018821dc-5646-4180-967b-a33ce884b907",
   "metadata": {},
   "outputs": [
    {
     "data": {
      "text/html": [
       "<div>\n",
       "<style scoped>\n",
       "    .dataframe tbody tr th:only-of-type {\n",
       "        vertical-align: middle;\n",
       "    }\n",
       "\n",
       "    .dataframe tbody tr th {\n",
       "        vertical-align: top;\n",
       "    }\n",
       "\n",
       "    .dataframe thead th {\n",
       "        text-align: right;\n",
       "    }\n",
       "</style>\n",
       "<table border=\"1\" class=\"dataframe\">\n",
       "  <thead>\n",
       "    <tr style=\"text-align: right;\">\n",
       "      <th></th>\n",
       "      <th>Model</th>\n",
       "      <th>Accuracy</th>\n",
       "      <th>F1 Score</th>\n",
       "      <th>F2 Score</th>\n",
       "      <th>AUC</th>\n",
       "      <th>AP</th>\n",
       "    </tr>\n",
       "  </thead>\n",
       "  <tbody>\n",
       "    <tr>\n",
       "      <th>1</th>\n",
       "      <td>Gradient Boosting</td>\n",
       "      <td>0.875</td>\n",
       "      <td>0.121</td>\n",
       "      <td>0.102</td>\n",
       "      <td>0.601</td>\n",
       "      <td>0.131</td>\n",
       "    </tr>\n",
       "    <tr>\n",
       "      <th>9</th>\n",
       "      <td>Logistic Regression</td>\n",
       "      <td>0.604</td>\n",
       "      <td>0.224</td>\n",
       "      <td>0.362</td>\n",
       "      <td>0.638</td>\n",
       "      <td>0.163</td>\n",
       "    </tr>\n",
       "    <tr>\n",
       "      <th>5</th>\n",
       "      <td>Random Forest</td>\n",
       "      <td>0.737</td>\n",
       "      <td>0.258</td>\n",
       "      <td>0.361</td>\n",
       "      <td>0.676</td>\n",
       "      <td>0.157</td>\n",
       "    </tr>\n",
       "  </tbody>\n",
       "</table>\n",
       "</div>"
      ],
      "text/plain": [
       "                 Model  Accuracy  F1 Score  F2 Score    AUC     AP\n",
       "1    Gradient Boosting     0.875     0.121     0.102  0.601  0.131\n",
       "9  Logistic Regression     0.604     0.224     0.362  0.638  0.163\n",
       "5        Random Forest     0.737     0.258     0.361  0.676  0.157"
      ]
     },
     "execution_count": 11,
     "metadata": {},
     "output_type": "execute_result"
    }
   ],
   "source": [
    "results_df.query('Threshold == \"60%\"').drop(columns='Threshold')"
   ]
  },
  {
   "cell_type": "code",
   "execution_count": 12,
   "id": "9e523e32-7901-4759-844c-0bb67ca9ca40",
   "metadata": {},
   "outputs": [
    {
     "data": {
      "text/html": [
       "<div>\n",
       "<style scoped>\n",
       "    .dataframe tbody tr th:only-of-type {\n",
       "        vertical-align: middle;\n",
       "    }\n",
       "\n",
       "    .dataframe tbody tr th {\n",
       "        vertical-align: top;\n",
       "    }\n",
       "\n",
       "    .dataframe thead th {\n",
       "        text-align: right;\n",
       "    }\n",
       "</style>\n",
       "<table border=\"1\" class=\"dataframe\">\n",
       "  <thead>\n",
       "    <tr style=\"text-align: right;\">\n",
       "      <th></th>\n",
       "      <th>Model</th>\n",
       "      <th>Accuracy</th>\n",
       "      <th>F1 Score</th>\n",
       "      <th>F2 Score</th>\n",
       "      <th>AUC</th>\n",
       "      <th>AP</th>\n",
       "    </tr>\n",
       "  </thead>\n",
       "  <tbody>\n",
       "    <tr>\n",
       "      <th>3</th>\n",
       "      <td>Gradient Boosting</td>\n",
       "      <td>0.784</td>\n",
       "      <td>0.235</td>\n",
       "      <td>0.212</td>\n",
       "      <td>0.594</td>\n",
       "      <td>0.228</td>\n",
       "    </tr>\n",
       "    <tr>\n",
       "      <th>11</th>\n",
       "      <td>Logistic Regression</td>\n",
       "      <td>0.609</td>\n",
       "      <td>0.332</td>\n",
       "      <td>0.448</td>\n",
       "      <td>0.647</td>\n",
       "      <td>0.270</td>\n",
       "    </tr>\n",
       "    <tr>\n",
       "      <th>7</th>\n",
       "      <td>Random Forest</td>\n",
       "      <td>0.670</td>\n",
       "      <td>0.338</td>\n",
       "      <td>0.422</td>\n",
       "      <td>0.623</td>\n",
       "      <td>0.244</td>\n",
       "    </tr>\n",
       "  </tbody>\n",
       "</table>\n",
       "</div>"
      ],
      "text/plain": [
       "                  Model  Accuracy  F1 Score  F2 Score    AUC     AP\n",
       "3     Gradient Boosting     0.784     0.235     0.212  0.594  0.228\n",
       "11  Logistic Regression     0.609     0.332     0.448  0.647  0.270\n",
       "7         Random Forest     0.670     0.338     0.422  0.623  0.244"
      ]
     },
     "execution_count": 12,
     "metadata": {},
     "output_type": "execute_result"
    }
   ],
   "source": [
    "results_df.query('Threshold == \"70%\"').drop(columns='Threshold')"
   ]
  },
  {
   "cell_type": "markdown",
   "id": "1a9bdc39-eecc-4e30-befb-78bead8dcdf6",
   "metadata": {},
   "source": [
    "### Class Imbalance"
   ]
  },
  {
   "cell_type": "code",
   "execution_count": 13,
   "id": "965e1d46-5e68-49bd-9ecd-46fc66608736",
   "metadata": {},
   "outputs": [
    {
     "data": {
      "text/html": [
       "<div>\n",
       "<style scoped>\n",
       "    .dataframe tbody tr th:only-of-type {\n",
       "        vertical-align: middle;\n",
       "    }\n",
       "\n",
       "    .dataframe tbody tr th {\n",
       "        vertical-align: top;\n",
       "    }\n",
       "\n",
       "    .dataframe thead th {\n",
       "        text-align: right;\n",
       "    }\n",
       "</style>\n",
       "<table border=\"1\" class=\"dataframe\">\n",
       "  <thead>\n",
       "    <tr style=\"text-align: right;\">\n",
       "      <th></th>\n",
       "      <th>Threshold</th>\n",
       "      <th>% Low Rate</th>\n",
       "      <th>% High Rate</th>\n",
       "    </tr>\n",
       "  </thead>\n",
       "  <tbody>\n",
       "    <tr>\n",
       "      <th>0</th>\n",
       "      <td>50%</td>\n",
       "      <td>5.1</td>\n",
       "      <td>94.9</td>\n",
       "    </tr>\n",
       "    <tr>\n",
       "      <th>1</th>\n",
       "      <td>60%</td>\n",
       "      <td>9.3</td>\n",
       "      <td>90.7</td>\n",
       "    </tr>\n",
       "    <tr>\n",
       "      <th>3</th>\n",
       "      <td>70%</td>\n",
       "      <td>16.6</td>\n",
       "      <td>83.4</td>\n",
       "    </tr>\n",
       "    <tr>\n",
       "      <th>2</th>\n",
       "      <td>80%</td>\n",
       "      <td>31.6</td>\n",
       "      <td>68.4</td>\n",
       "    </tr>\n",
       "  </tbody>\n",
       "</table>\n",
       "</div>"
      ],
      "text/plain": [
       "  Threshold  % Low Rate  % High Rate\n",
       "0       50%         5.1         94.9\n",
       "1       60%         9.3         90.7\n",
       "3       70%        16.6         83.4\n",
       "2       80%        31.6         68.4"
      ]
     },
     "execution_count": 13,
     "metadata": {},
     "output_type": "execute_result"
    }
   ],
   "source": [
    "imbalance_df = pd.DataFrame(error_dicts).sort_values(by=['Threshold'])[['Threshold','% Low Rate','% High Rate']].drop_duplicates()\n",
    "imbalance_df"
   ]
  }
 ],
 "metadata": {
  "kernelspec": {
   "display_name": "Python [conda env:mds-afforest-dev]",
   "language": "python",
   "name": "conda-env-mds-afforest-dev-py"
  },
  "language_info": {
   "codemirror_mode": {
    "name": "ipython",
    "version": 3
   },
   "file_extension": ".py",
   "mimetype": "text/x-python",
   "name": "python",
   "nbconvert_exporter": "python",
   "pygments_lexer": "ipython3",
   "version": "3.12.10"
  }
 },
 "nbformat": 4,
 "nbformat_minor": 5
}
